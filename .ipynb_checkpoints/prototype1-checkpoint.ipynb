{
 "cells": [
  {
   "cell_type": "code",
   "execution_count": 140,
   "id": "1e9aa313",
   "metadata": {},
   "outputs": [
    {
     "data": {
      "application/vnd.jupyter.widget-view+json": {
       "model_id": "430d7715d5fc43028eddec4c92f8a42f",
       "version_major": 2,
       "version_minor": 0
      },
      "text/plain": [
       "Map(center=[59.9608659, 30.3202269], controls=(ZoomControl(options=['position', 'zoom_in_text', 'zoom_in_title…"
      ]
     },
     "metadata": {},
     "output_type": "display_data"
    }
   ],
   "source": [
    "from ipyleaflet import Map, Marker, Polyline, Popup\n",
    "from ipywidgets import HTML\n",
    "\n",
    "center1 = (59.9608659, 30.3202269)\n",
    "center2 = (59.9576825, 30.3050337)\n",
    "\n",
    "m = Map(center=center1, zoom=15)\n",
    "\n",
    "marker2 = Marker(location=center2, draggable=True)\n",
    "marker1 = Marker(location=center1, draggable=True)\n",
    "\n",
    "line = Polyline(\n",
    "    color=\"blue\",\n",
    "    fill=False\n",
    ")\n",
    "\n",
    "message1 = HTML()\n",
    "message1.value = \"Расстояние: 0\"\n",
    "\n",
    "popup = Popup(\n",
    "    location=center1,\n",
    "    child=message1,\n",
    "    close_button=True,\n",
    "    auto_close=False,\n",
    "    close_on_escape_key=False\n",
    ")\n",
    "\n",
    "m.add_layer(marker2)\n",
    "m.add_layer(marker1)\n",
    "m.add_layer(line)\n",
    "marker1.popup = message1\n",
    "\n",
    "display(m)\n",
    "\n"
   ]
  },
  {
   "cell_type": "code",
   "execution_count": 141,
   "id": "a372b442",
   "metadata": {},
   "outputs": [],
   "source": [
    "def draw_path():\n",
    "    if not pos1 or not pos2:\n",
    "        return\n",
    "    \n",
    "    way = finder.find_path_betwen_two(pos1, pos2, 6000)\n",
    "    \n",
    "    a = [pos1,] + list(way) + [pos2,]\n",
    "    a = [(node.lat, node.lon) for node in a]\n",
    "    \n",
    "    line.locations = [a]\n",
    "    l = way.length()\n",
    "    message1.value = f\"Расстояние: {l}\"\n",
    "    \n",
    "pos1, pos2 = None, None\n",
    "\n",
    "def on_location_changed1(event):\n",
    "    global pos1\n",
    "    pos1 = event['new']\n",
    "    pos1 = Node(id=0, lon=pos1[1], lat=pos1[0])\n",
    "    draw_path()\n",
    "\n",
    "def on_location_changed2(event):\n",
    "    global pos2\n",
    "    pos2 = event['new']\n",
    "    pos2 = Node(id=0, lon=pos2[1], lat=pos2[0])\n",
    "    draw_path()\n",
    "\n",
    "marker1.observe(on_location_changed1, 'location')\n",
    "marker2.observe(on_location_changed2, 'location')"
   ]
  },
  {
   "cell_type": "code",
   "execution_count": 65,
   "id": "e36225aa",
   "metadata": {},
   "outputs": [],
   "source": [
    "import ways\n",
    "import graph\n",
    "from models import Node"
   ]
  },
  {
   "cell_type": "code",
   "execution_count": 97,
   "id": "73e6f2fe",
   "metadata": {},
   "outputs": [],
   "source": [
    "g = graph.NxGraph(\"data/petrogradka_edge_list.txt\", \"data/nodes.json\")"
   ]
  },
  {
   "cell_type": "code",
   "execution_count": 98,
   "id": "ba8b4a2c",
   "metadata": {},
   "outputs": [],
   "source": [
    "finder = ways.Pathfinder(g)"
   ]
  },
  {
   "cell_type": "code",
   "execution_count": 99,
   "id": "13011ae5",
   "metadata": {},
   "outputs": [
    {
     "data": {
      "text/plain": [
       "<module 'graph' from '/home/artolord/Projects/unecon/python/BestWay/graph.py'>"
      ]
     },
     "execution_count": 99,
     "metadata": {},
     "output_type": "execute_result"
    }
   ],
   "source": [
    "import importlib\n",
    "importlib.reload(ways)\n",
    "importlib.reload(graph)"
   ]
  },
  {
   "cell_type": "code",
   "execution_count": null,
   "id": "5704a6d6",
   "metadata": {},
   "outputs": [],
   "source": []
  }
 ],
 "metadata": {
  "kernelspec": {
   "display_name": "Python 3",
   "language": "python",
   "name": "python3"
  },
  "language_info": {
   "codemirror_mode": {
    "name": "ipython",
    "version": 3
   },
   "file_extension": ".py",
   "mimetype": "text/x-python",
   "name": "python",
   "nbconvert_exporter": "python",
   "pygments_lexer": "ipython3",
   "version": "3.9.2"
  }
 },
 "nbformat": 4,
 "nbformat_minor": 5
}

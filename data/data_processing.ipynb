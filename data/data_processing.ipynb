{
 "cells": [
  {
   "cell_type": "code",
   "execution_count": 1,
   "id": "polyphonic-greek",
   "metadata": {},
   "outputs": [],
   "source": [
    "import xml.etree.ElementTree as ET"
   ]
  },
  {
   "cell_type": "code",
   "execution_count": 2,
   "id": "primary-championship",
   "metadata": {},
   "outputs": [],
   "source": [
    "footways = ET.parse(\"petrogradka_footways.osm\")"
   ]
  },
  {
   "cell_type": "code",
   "execution_count": 5,
   "id": "periodic-friend",
   "metadata": {},
   "outputs": [],
   "source": [
    "root = footways.getroot()"
   ]
  },
  {
   "cell_type": "code",
   "execution_count": null,
   "id": "expected-trinity",
   "metadata": {},
   "outputs": [],
   "source": []
  },
  {
   "cell_type": "code",
   "execution_count": 10,
   "id": "prescribed-harrison",
   "metadata": {},
   "outputs": [],
   "source": [
    "from collections import defaultdict"
   ]
  },
  {
   "cell_type": "code",
   "execution_count": 41,
   "id": "acute-cable",
   "metadata": {},
   "outputs": [],
   "source": [
    "graph = nx.Graph()\n",
    "nodes = {}\n",
    "for child in root:\n",
    "    if child.tag == \"node\":\n",
    "        nodes[int(child.attrib['id'])] = child.attrib\n",
    "        graph.add_node(int(child.attrib['id']))\n",
    "    if child.tag == \"way\":\n",
    "        points = [i for i in child if i.tag == \"nd\"]\n",
    "        for prev, next in zip(points[:-1], points[1:]):\n",
    "            rasst = haversine(\n",
    "                (float(nodes[int(prev.attrib['ref'])]['lon']), float(nodes[int(prev.attrib['ref'])]['lat'])),\n",
    "                (float(nodes[int(next.attrib['ref'])]['lon']), float(nodes[int(next.attrib['ref'])]['lat']))\n",
    "            )\n",
    "            graph.add_edge(\n",
    "                int(prev.attrib['ref']),\n",
    "                int(next.attrib['ref']),\n",
    "                weight=rasst\n",
    "            )"
   ]
  },
  {
   "cell_type": "code",
   "execution_count": 44,
   "id": "stone-release",
   "metadata": {},
   "outputs": [
    {
     "name": "stdout",
     "output_type": "stream",
     "text": [
      "Defaulting to user installation because normal site-packages is not writeable\n",
      "Collecting scipy\n",
      "  Downloading scipy-1.6.2-cp39-cp39-manylinux1_x86_64.whl (27.3 MB)\n",
      "\u001b[K     |████████████████████████████████| 27.3 MB 5.0 MB/s eta 0:00:01\n",
      "\u001b[?25hRequirement already satisfied: numpy<1.23.0,>=1.16.5 in /usr/lib/python3.9/site-packages (from scipy) (1.20.1)\n",
      "Installing collected packages: scipy\n",
      "Successfully installed scipy-1.6.2\n"
     ]
    }
   ],
   "source": [
    "!pip install scipy"
   ]
  },
  {
   "cell_type": "code",
   "execution_count": 45,
   "id": "empirical-romantic",
   "metadata": {},
   "outputs": [
    {
     "data": {
      "image/png": "[encoded data removed]",
      "text/plain": [
       "<Figure size 432x288 with 1 Axes>"
      ]
     },
     "metadata": {},
     "output_type": "display_data"
    }
   ],
   "source": [
    "nx.draw(graph)"
   ]
  },
  {
   "cell_type": "code",
   "execution_count": 28,
   "id": "mature-photography",
   "metadata": {},
   "outputs": [],
   "source": [
    "from math import *\n",
    "def haversine(koord1,koord2):\n",
    "    \"\"\"\n",
    "    Calculate the great circle distance between two points \n",
    "    on the earth (specified in decimal degrees)\n",
    "    \"\"\"\n",
    "    # convert decimal degrees to radians \n",
    "    lon1, lat1, lon2, lat2 = map(radians, [koord1[0],koord1[1],koord2[0],koord2[1]])\n",
    "    # haversine formula \n",
    "    dlon = lon2 - lon1 \n",
    "    dlat = lat2 - lat1 \n",
    "    a = sin(dlat/2)**2 + cos(lat1) * cos(lat2) * sin(dlon/2)**2\n",
    "    c = 2 * asin(sqrt(a)) \n",
    "    # Radius of earth in kilometers is 6371\n",
    "    dist = 6371000 * c\n",
    "    return dist"
   ]
  },
  {
   "cell_type": "code",
   "execution_count": 37,
   "id": "outstanding-tomorrow",
   "metadata": {},
   "outputs": [
    {
     "name": "stdout",
     "output_type": "stream",
     "text": [
      "Defaulting to user installation because normal site-packages is not writeable\n",
      "Collecting networkx\n",
      "  Downloading networkx-2.5-py3-none-any.whl (1.6 MB)\n",
      "\u001b[K     |████████████████████████████████| 1.6 MB 472 kB/s eta 0:00:01\n",
      "\u001b[?25hRequirement already satisfied: decorator>=4.3.0 in /usr/lib/python3.9/site-packages (from networkx) (4.4.2)\n",
      "Installing collected packages: networkx\n",
      "Successfully installed networkx-2.5\n"
     ]
    }
   ],
   "source": [
    "!pip install networkx"
   ]
  },
  {
   "cell_type": "code",
   "execution_count": 38,
   "id": "reduced-locking",
   "metadata": {},
   "outputs": [],
   "source": [
    "from networkx import nx"
   ]
  },
  {
   "cell_type": "code",
   "execution_count": 40,
   "id": "japanese-excess",
   "metadata": {},
   "outputs": [],
   "source": [
    "graph = nx.Graph1()"
   ]
  },
  {
   "cell_type": "code",
   "execution_count": 51,
   "id": "psychological-emission",
   "metadata": {},
   "outputs": [],
   "source": [
    "S = [graph.subgraph(c).copy() for c in nx.connected_components(graph)]"
   ]
  },
  {
   "cell_type": "code",
   "execution_count": 56,
   "id": "geographic-saudi",
   "metadata": {},
   "outputs": [],
   "source": [
    "g = max(S, key=len)"
   ]
  },
  {
   "cell_type": "code",
   "execution_count": 57,
   "id": "excessive-huntington",
   "metadata": {},
   "outputs": [
    {
     "data": {
      "text/plain": [
       "4437"
      ]
     },
     "execution_count": 57,
     "metadata": {},
     "output_type": "execute_result"
    }
   ],
   "source": [
    "g.size()"
   ]
  },
  {
   "cell_type": "code",
   "execution_count": 58,
   "id": "minor-cause",
   "metadata": {},
   "outputs": [
    {
     "data": {
      "image/png": "[encoded data removed]",
      "text/plain": [
       "<Figure size 432x288 with 1 Axes>"
      ]
     },
     "metadata": {},
     "output_type": "display_data"
    }
   ],
   "source": [
    "nx.draw(g)"
   ]
  },
  {
   "cell_type": "code",
   "execution_count": 59,
   "id": "macro-portsmouth",
   "metadata": {},
   "outputs": [],
   "source": [
    "nx.write_edgelist(g, \"petrogradka_edge_list.txt\")"
   ]
  },
  {
   "cell_type": "code",
   "execution_count": 60,
   "id": "precise-luxury",
   "metadata": {},
   "outputs": [],
   "source": [
    "import json\n",
    "with open(\"nodes.json\", \"w\") as f:\n",
    "    json.dump(nodes, f)"
   ]
  },
  {
   "cell_type": "code",
   "execution_count": null,
   "id": "accredited-excitement",
   "metadata": {},
   "outputs": [],
   "source": []
  }
 ],
 "metadata": {
  "kernelspec": {
   "display_name": "Python 3",
   "language": "python",
   "name": "python3"
  },
  "language_info": {
   "codemirror_mode": {
    "name": "ipython",
    "version": 3
   },
   "file_extension": ".py",
   "mimetype": "text/x-python",
   "name": "python",
   "nbconvert_exporter": "python",
   "pygments_lexer": "ipython3",
   "version": "3.9.2"
  }
 },
 "nbformat": 4,
 "nbformat_minor": 5
}
